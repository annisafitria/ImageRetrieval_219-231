{
  "nbformat": 4,
  "nbformat_minor": 0,
  "metadata": {
    "colab": {
      "name": "Heroku Tubes.ipynb",
      "provenance": [],
      "authorship_tag": "ABX9TyOe5Z5JAzKIXABx1yxjRQUm",
      "include_colab_link": true
    },
    "kernelspec": {
      "name": "python3",
      "display_name": "Python 3"
    },
    "language_info": {
      "name": "python"
    }
  },
  "cells": [
    {
      "cell_type": "markdown",
      "metadata": {
        "id": "view-in-github",
        "colab_type": "text"
      },
      "source": [
        "<a href=\"https://colab.research.google.com/github/annisafitria/ImageRetrieval_219-231/blob/main/deploy_heroku/Heroku_Tubes.ipynb\" target=\"_parent\"><img src=\"https://colab.research.google.com/assets/colab-badge.svg\" alt=\"Open In Colab\"/></a>"
      ]
    },
    {
      "cell_type": "markdown",
      "metadata": {
        "id": "-geflrFPHQrd"
      },
      "source": [
        "## Heroku Tubes"
      ]
    },
    {
      "cell_type": "code",
      "metadata": {
        "id": "tvbEHH25HJpo"
      },
      "source": [
        "Hello World!"
      ],
      "execution_count": null,
      "outputs": []
    }
  ]
}